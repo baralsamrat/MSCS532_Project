{
  "nbformat": 4,
  "nbformat_minor": 0,
  "metadata": {
    "colab": {
      "provenance": []
    },
    "kernelspec": {
      "name": "python3",
      "display_name": "Python 3"
    },
    "language_info": {
      "name": "python"
    }
  },
  "cells": [
    {
      "cell_type": "code",
      "source": [
        "!pip install pandas sqlalchemy geopy sklearn geopy\n",
        "!pip install urllib3"
      ],
      "metadata": {
        "id": "Zs6nuWeKwWEr"
      },
      "execution_count": null,
      "outputs": []
    },
    {
      "cell_type": "code",
      "source": [
        "import heapq\n",
        "from collections import defaultdict\n",
        "from geopy.distance import geodesic\n",
        "import pandas as pd\n",
        "from sklearn.ensemble import RandomForestClassifier\n",
        "from sqlalchemy import create_engine, Column, String, Integer, Float\n",
        "from sqlalchemy.orm import declarative_base\n",
        "from sqlalchemy.orm import sessionmaker\n",
        "import urllib.request                   # this would output the html source text\n",
        "import requests                         # this request the url"
      ],
      "metadata": {
        "id": "SZ0bpiEKfxtz"
      },
      "execution_count": null,
      "outputs": []
    },
    {
      "cell_type": "code",
      "source": [
        "# Set up the database\n",
        "Base = declarative_base()\n",
        "engine = create_engine('sqlite:///organ_donation.db')\n",
        "Session = sessionmaker(bind=engine)\n",
        "session = Session()"
      ],
      "metadata": {
        "id": "0NmyFb2rf2Xz"
      },
      "execution_count": null,
      "outputs": []
    },
    {
      "cell_type": "code",
      "source": [
        "\n",
        "# Donor and Recipient Classes\n",
        "class Donor(Base):\n",
        "    __tablename__ = 'donors'\n",
        "    id = Column(String, primary_key=True)\n",
        "    blood_type = Column(String)\n",
        "    hla_type = Column(String)\n",
        "    location_lat = Column(Float)\n",
        "    location_lon = Column(Float)\n",
        "\n",
        "class Recipient(Base):\n",
        "    __tablename__ = 'recipients'\n",
        "    id = Column(String, primary_key=True)\n",
        "    blood_type = Column(String)\n",
        "    urgency = Column(Integer)\n",
        "    location_lat = Column(Float)\n",
        "    location_lon = Column(Float)"
      ],
      "metadata": {
        "id": "V40QTXZzf5EK"
      },
      "execution_count": null,
      "outputs": []
    },
    {
      "cell_type": "code",
      "source": [
        "Base.metadata.create_all(engine)"
      ],
      "metadata": {
        "id": "FkA2Tvqtf7ez"
      },
      "execution_count": null,
      "outputs": []
    },
    {
      "cell_type": "code",
      "source": [
        "# Priority Queue to manage recipient urgency\n",
        "class UrgencyQueue:\n",
        "    def __init__(self):\n",
        "        self.heap = []\n",
        "\n",
        "    def add_recipient(self, recipient):\n",
        "        heapq.heappush(self.heap, recipient)\n",
        "\n",
        "    def get_highest_priority(self):\n",
        "        return heapq.heappop(self.heap) if self.heap else None"
      ],
      "metadata": {
        "id": "AlbyqhDHf8bM"
      },
      "execution_count": null,
      "outputs": []
    },
    {
      "cell_type": "code",
      "source": [
        "# Function to calculate the best donor match based on blood type and location\n",
        "def find_best_match(recipient, donors):\n",
        "    best_match = None\n",
        "    best_distance = float('inf')\n",
        "\n",
        "    for donor in donors:\n",
        "        distance = geodesic((recipient.location_lat, recipient.location_lon), (donor.location_lat, donor.location_lon)).miles\n",
        "        if distance < best_distance:\n",
        "            best_distance = distance\n",
        "            best_match = donor\n",
        "\n",
        "    return best_match"
      ],
      "metadata": {
        "id": "Ax2XU3_Ff_jr"
      },
      "execution_count": null,
      "outputs": []
    },
    {
      "cell_type": "code",
      "source": [
        "#Fetching the data\n",
        "#This is just reading the data from URL\n",
        "with urllib.request.urlopen(\"https://cs.stanford.edu/people/karpathy/char-rnn/shakespear.txt\") as url:\n",
        "    data = url.read()\n",
        "\n",
        "#This is just Writing the data from URL to text file in the file system\n",
        "urllist = [\"https://cs.stanford.edu/people/karpathy/char-rnn/shakespear.txt\" ]\n",
        "for url in urllist:\n",
        "    data = requests.get(url)\n",
        "with open('shakespear.txt', 'w') as file:\n",
        "        file.write(data.text)"
      ],
      "metadata": {
        "id": "dT9JX2B0sEgA"
      },
      "execution_count": null,
      "outputs": []
    },
    {
      "cell_type": "code",
      "source": [
        "# Load the provided Excel file to inspect its contents\n",
        "file_path = '/content/Organ_Donation_and_Transplantation_Data.xlsx'\n",
        "excel_data = pd.ExcelFile(file_path)\n",
        "\n",
        "# Check the sheet names and inspect the first few rows of each sheet\n",
        "sheet_names = excel_data.sheet_names\n",
        "# sheet_data = {sheet: excel_data.parse(sheet).head() for sheet in sheet_names}\n",
        "\n",
        "# sheet_names, sheet_data\n",
        "\n",
        "sheet_names\n"
      ],
      "metadata": {
        "id": "ZaOSYHujh-J4",
        "colab": {
          "base_uri": "https://localhost:8080/"
        },
        "outputId": "bead47fe-3829-4f30-caac-655020b153fd"
      },
      "execution_count": 22,
      "outputs": [
        {
          "output_type": "execute_result",
          "data": {
            "text/plain": [
              "['READ ME FIRST',\n",
              " 'Overview - National',\n",
              " 'Overview - State',\n",
              " 'Donor Demographics',\n",
              " 'OPO - POTR',\n",
              " 'OPO Service Area by County',\n",
              " 'Waitlist-Candidate Registration',\n",
              " 'Waitlist - OTC Transplant Rate',\n",
              " 'Waitlist - OTC Removal Reasons',\n",
              " 'Recipient Demographics',\n",
              " 'OTC Transplants by Demographics',\n",
              " 'OTC Outcome Measures']"
            ]
          },
          "metadata": {},
          "execution_count": 22
        }
      ]
    },
    {
      "cell_type": "code",
      "source": [
        "data = pd.read_excel('/content/Organ_Donation_and_Transplantation_Data.xlsx')\n",
        "# sheet_data = {sheet: excel_data.parse(sheet).head() for sheet in sheet_names}"
      ],
      "metadata": {
        "id": "MWD4FCe3gsjf"
      },
      "execution_count": null,
      "outputs": []
    },
    {
      "cell_type": "code",
      "source": [
        "national = pd.read_excel(file_path, sheet_name='Overview - National')\n",
        "state = pd.read_excel(file_path, sheet_name='Overview - State')\n",
        "donor = pd.read_excel(file_path, sheet_name='Donor Demographics')\n",
        "POTR = pd.read_excel(file_path, sheet_name='OPO - POTR')\n",
        "wait_candidate = pd.read_excel(file_path, sheet_name='Waitlist-Candidate Registration')\n",
        "wait_transplant_rate = pd.read_excel(file_path, sheet_name='Waitlist - OTC Transplant Rate')\n",
        "wait_transplant_remove = pd.read_excel(file_path, sheet_name='Waitlist - OTC Removal Reasons')\n",
        "recipent = pd.read_excel(file_path, sheet_name='Recipient Demographics')\n",
        "transplant_demo = pd.read_excel(file_path, sheet_name='OTC Transplants by Demographics')\n",
        "outcome = pd.read_excel(file_path, sheet_name='OTC Outcome Measures')\n"
      ],
      "metadata": {
        "id": "duI_2l70g3Dl"
      },
      "execution_count": null,
      "outputs": []
    },
    {
      "cell_type": "code",
      "source": [
        "print(national.head())"
      ],
      "metadata": {
        "colab": {
          "base_uri": "https://localhost:8080/"
        },
        "id": "5jdYNvYLpDzm",
        "outputId": "facb1cde-1082-4895-a6d0-5e6f70fc7ee1"
      },
      "execution_count": null,
      "outputs": [
        {
          "output_type": "stream",
          "name": "stdout",
          "text": [
            "   Year            Organ Number of deceased organ donors recovered  \\\n",
            "0  2019            Heart                                      3636   \n",
            "1  2019           Kidney                                     11152   \n",
            "2  2019  Kidney-Pancreas                                         .   \n",
            "3  2019            Liver                                      9153   \n",
            "4  2019             Lung                                      2755   \n",
            "\n",
            "  Number of living organ donors recovered  Number of candidates added  \\\n",
            "0                                       .                        4658   \n",
            "1                                    6866                       41100   \n",
            "2                                       .                        1421   \n",
            "3                                     523                       12941   \n",
            "4                                       .                        3218   \n",
            "\n",
            "   Number of registrations added  \\\n",
            "0                           4717   \n",
            "1                          43223   \n",
            "2                           1479   \n",
            "3                          13448   \n",
            "4                           3248   \n",
            "\n",
            "   Number of deceased donor organ transplant recipients  \\\n",
            "0                                               3542      \n",
            "1                                              16521      \n",
            "2                                                872      \n",
            "3                                               8263      \n",
            "4                                               2711      \n",
            "\n",
            "  Number of living donor organ transplant recipients Last Refresh Date  \\\n",
            "0                                                  .     July 16, 2024   \n",
            "1                                               6865     July 16, 2024   \n",
            "2                                                  .     July 16, 2024   \n",
            "3                                                524     July 16, 2024   \n",
            "4                                                  .     July 16, 2024   \n",
            "\n",
            "  Date Range for Data - Start Date Range for Data - End  \n",
            "0             January 1, 2019            March 31, 2024  \n",
            "1             January 1, 2019            March 31, 2024  \n",
            "2             January 1, 2019            March 31, 2024  \n",
            "3             January 1, 2019            March 31, 2024  \n",
            "4             January 1, 2019            March 31, 2024  \n"
          ]
        }
      ]
    },
    {
      "cell_type": "code",
      "source": [
        "print(state.head())"
      ],
      "metadata": {
        "colab": {
          "base_uri": "https://localhost:8080/"
        },
        "id": "rHXbc1husSXZ",
        "outputId": "f5d28a7a-aa34-4f60-cd44-b4945c2bfb21"
      },
      "execution_count": null,
      "outputs": [
        {
          "output_type": "stream",
          "name": "stdout",
          "text": [
            "              statistics  Year State of Residence Name  \\\n",
            "0  Deceased Organ Donors  2019                 Alabama   \n",
            "1  Deceased Organ Donors  2019                 Alabama   \n",
            "2  Deceased Organ Donors  2019                 Alabama   \n",
            "3  Deceased Organ Donors  2019                 Alabama   \n",
            "4  Deceased Organ Donors  2019                 Alabama   \n",
            "\n",
            "  State of Residence Code   Organ    counts Last Refresh Date  \\\n",
            "0                      AL     All       206     July 16, 2024   \n",
            "1                      AL   Heart        83     July 16, 2024   \n",
            "2                      AL  Kidney       194     July 16, 2024   \n",
            "3                      AL   Liver       177     July 16, 2024   \n",
            "4                      AL    Lung        38     July 16, 2024   \n",
            "\n",
            "  Date Range for Data - Start Date Range for Data - End  \n",
            "0             January 1, 2019            March 31, 2024  \n",
            "1             January 1, 2019            March 31, 2024  \n",
            "2             January 1, 2019            March 31, 2024  \n",
            "3             January 1, 2019            March 31, 2024  \n",
            "4             January 1, 2019            March 31, 2024  \n"
          ]
        }
      ]
    },
    {
      "cell_type": "code",
      "source": [
        "print(donor.head())"
      ],
      "metadata": {
        "colab": {
          "base_uri": "https://localhost:8080/"
        },
        "id": "SolMj-lwsUjc",
        "outputId": "9d137b02-de5a-4e85-ee52-fc44ed115d2a"
      },
      "execution_count": null,
      "outputs": [
        {
          "output_type": "stream",
          "name": "stdout",
          "text": [
            "         Category Donor Type Filter           Level Donor Count  \\\n",
            "0       0 - Total       Grand Total           Total      108645   \n",
            "1  1 - Donor Type    Deceased Donor  Deceased Donor       73829   \n",
            "2  1 - Donor Type      Living Donor    Living Donor       34816   \n",
            "3   2 - Insurance      Living Donor         Insured       32097   \n",
            "4   2 - Insurance      Living Donor       Uninsured        2177   \n",
            "\n",
            "  Last Refresh Date Date Range for Data - Start Date Range for Data - End  \n",
            "0     July 16, 2024             January 1, 2019            March 31, 2024  \n",
            "1     July 16, 2024             January 1, 2019            March 31, 2024  \n",
            "2     July 16, 2024             January 1, 2019            March 31, 2024  \n",
            "3     July 16, 2024             January 1, 2019            March 31, 2024  \n",
            "4     July 16, 2024             January 1, 2019            March 31, 2024  \n"
          ]
        }
      ]
    },
    {
      "cell_type": "code",
      "source": [
        "print(POTR.head())"
      ],
      "metadata": {
        "colab": {
          "base_uri": "https://localhost:8080/"
        },
        "id": "R6POhAj1sVBr",
        "outputId": "0e9fea04-042c-406d-81d1-7be8be1d2d00"
      },
      "execution_count": null,
      "outputs": [
        {
          "output_type": "stream",
          "name": "stdout",
          "text": [
            "      OPO Name (State)  Year     Organ Procured Organ Transplant Rate  \\\n",
            "0  Average of All OPOs  2019     Heart                          99.3%   \n",
            "1  Average of All OPOs  2019    Kidney                          80.4%   \n",
            "2  Average of All OPOs  2019     Liver                          92.6%   \n",
            "3  Average of All OPOs  2019      Lung                          94.6%   \n",
            "4  Average of All OPOs  2019  Pancreas                          76.4%   \n",
            "\n",
            "  Last Refresh Date Date Range for Data - Start Date Range for Data - End  \n",
            "0     July 16, 2024             January 1, 2019            March 31, 2024  \n",
            "1     July 16, 2024             January 1, 2019            March 31, 2024  \n",
            "2     July 16, 2024             January 1, 2019            March 31, 2024  \n",
            "3     July 16, 2024             January 1, 2019            March 31, 2024  \n",
            "4     July 16, 2024             January 1, 2019            March 31, 2024  \n"
          ]
        }
      ]
    },
    {
      "cell_type": "code",
      "source": [
        "print(wait_candidate.head())"
      ],
      "metadata": {
        "colab": {
          "base_uri": "https://localhost:8080/"
        },
        "id": "kmEIExifsVkp",
        "outputId": "72988334-794f-4786-a239-f76316d87abc"
      },
      "execution_count": null,
      "outputs": [
        {
          "output_type": "stream",
          "name": "stdout",
          "text": [
            "  Candidate/Registration  Year of Addition       Organ Type  Total  \\\n",
            "0             Candidates              2019              All  61164   \n",
            "1             Candidates              2019            Heart   4658   \n",
            "2             Candidates              2019           Kidney  41100   \n",
            "3             Candidates              2019  Kidney-Pancreas   1421   \n",
            "4             Candidates              2019            Liver  12941   \n",
            "\n",
            "   Sex: Female  Sex: Male  Race: White, Non-Hispanic  \\\n",
            "0        23265      37908                      30913   \n",
            "1         1397       3261                       2740   \n",
            "2        15727      25377                      17295   \n",
            "3          597        825                        704   \n",
            "4         4970       7972                       8936   \n",
            "\n",
            "   Race: Black, Non-Hispanic Race: Asian, Non-Hispanic  Race: Hispanic/Latino  \\\n",
            "0                      14226                      3798                  11139   \n",
            "1                       1163                       155                    540   \n",
            "2                      11817                      3035                   8112   \n",
            "3                        389                        70                    240   \n",
            "4                        966                       539                   2282   \n",
            "\n",
            "   ... Primary Payment: Private Age Group: Pediatric Age Group: 18-30  \\\n",
            "0  ...                    26997                 2369             3902   \n",
            "1  ...                     2252                  682              336   \n",
            "2  ...                    17086                 1015             2856   \n",
            "3  ...                      700           Suppressed              158   \n",
            "4  ...                     6458                  641              499   \n",
            "\n",
            "  Age Group: 31-40  Age Group: 41-50  Age Group: 51-60 Age Group: 61+  \\\n",
            "0             6669             10929             16788          20558   \n",
            "1              411               736              1186           1309   \n",
            "2             4902              7961             11114          13288   \n",
            "3              517               449               252     Suppressed   \n",
            "4              983              1878              3979           4964   \n",
            "\n",
            "   Last Refresh Date Date Range for Data - Start Date Range for Data - End  \n",
            "0      July 16, 2024             January 1, 2019            March 31, 2024  \n",
            "1      July 16, 2024             January 1, 2019            March 31, 2024  \n",
            "2      July 16, 2024             January 1, 2019            March 31, 2024  \n",
            "3      July 16, 2024             January 1, 2019            March 31, 2024  \n",
            "4      July 16, 2024             January 1, 2019            March 31, 2024  \n",
            "\n",
            "[5 rows x 27 columns]\n"
          ]
        }
      ]
    },
    {
      "cell_type": "code",
      "source": [
        "print(wait_transplant_rate.head())"
      ],
      "metadata": {
        "colab": {
          "base_uri": "https://localhost:8080/"
        },
        "id": "FHp9n0sWsXrv",
        "outputId": "af462cf0-5b57-4a0a-93f3-9781297b718f"
      },
      "execution_count": null,
      "outputs": [
        {
          "output_type": "stream",
          "name": "stdout",
          "text": [
            "           Transplant Center (State) Organ Type  \\\n",
            "0  Abbott Northwestern Hospital (MN)      Heart   \n",
            "1  Abbott Northwestern Hospital (MN)     Kidney   \n",
            "2  Abbott Northwestern Hospital (MN)        All   \n",
            "3          AdventHealth Orlando (FL)      Heart   \n",
            "4          AdventHealth Orlando (FL)     Kidney   \n",
            "\n",
            "  Percent of Deceased Donor Transplant with 30 Days  \\\n",
            "0                                             25.6%   \n",
            "1                                              2.6%   \n",
            "2                                              9.0%   \n",
            "3                                             44.8%   \n",
            "4                                              8.4%   \n",
            "\n",
            "  Percent of Deceased Donor Transplant with 1 Year  \\\n",
            "0                                            71.1%   \n",
            "1                                             9.1%   \n",
            "2                                            26.5%   \n",
            "3                                            84.6%   \n",
            "4                                            28.8%   \n",
            "\n",
            "  Percent of Deceased Donor Transplant with 2 Years  \\\n",
            "0                                             76.7%   \n",
            "1                                             13.9%   \n",
            "2                                             31.5%   \n",
            "3                                             86.9%   \n",
            "4                                             37.4%   \n",
            "\n",
            "  Percent of Deceased Donor Transplant with 3 Years Last Refresh Date  \\\n",
            "0                                             80.0%     July 16, 2024   \n",
            "1                                             22.1%     July 16, 2024   \n",
            "2                                             38.3%     July 16, 2024   \n",
            "3                                             88.7%     July 16, 2024   \n",
            "4                                             44.2%     July 16, 2024   \n",
            "\n",
            "  Date Range for Data - Start Date Range for Data - End  \n",
            "0             January 1, 2016            March 31, 2021  \n",
            "1             January 1, 2016            March 31, 2021  \n",
            "2             January 1, 2016            March 31, 2021  \n",
            "3             January 1, 2016            March 31, 2021  \n",
            "4             January 1, 2016            March 31, 2021  \n"
          ]
        }
      ]
    },
    {
      "cell_type": "code",
      "source": [
        "print(wait_transplant_remove.head())"
      ],
      "metadata": {
        "colab": {
          "base_uri": "https://localhost:8080/"
        },
        "id": "myvYKXxcsYMS",
        "outputId": "06952e79-2c0c-4700-a3e5-44c256b38000"
      },
      "execution_count": null,
      "outputs": [
        {
          "output_type": "stream",
          "name": "stdout",
          "text": [
            "           Transplant Center (State)       Organ Type  \\\n",
            "0  Abbott Northwestern Hospital (MN)            Heart   \n",
            "1  Abbott Northwestern Hospital (MN)           Kidney   \n",
            "2          AdventHealth Orlando (FL)            Heart   \n",
            "3          AdventHealth Orlando (FL)           Kidney   \n",
            "4          AdventHealth Orlando (FL)  Kidney-Pancreas   \n",
            "\n",
            "  Transferred to Another Center Received Living Donor Transplant  \\\n",
            "0                             0                                0   \n",
            "1                            19                               41   \n",
            "2                             0                                0   \n",
            "3                    Suppressed                              126   \n",
            "4                             0                                0   \n",
            "\n",
            "  Received Deceased Donor Transplant        Died  \\\n",
            "0                                 67  Suppressed   \n",
            "1                                115          28   \n",
            "2                                266  Suppressed   \n",
            "3                                587         129   \n",
            "4                                 42  Suppressed   \n",
            "\n",
            "  Received Transplant Elsewhere Too sick for Transplant  \\\n",
            "0                             0              Suppressed   \n",
            "1                    Suppressed                      37   \n",
            "2                    Suppressed              Suppressed   \n",
            "3                           168                      72   \n",
            "4                    Suppressed              Suppressed   \n",
            "\n",
            "  Recovered without Transplant Other Reasons Last Refresh Date  \\\n",
            "0                   Suppressed    Suppressed     July 16, 2024   \n",
            "1                   Suppressed            20     July 16, 2024   \n",
            "2                   Suppressed            16     July 16, 2024   \n",
            "3                   Suppressed            81     July 16, 2024   \n",
            "4                            0    Suppressed     July 16, 2024   \n",
            "\n",
            "  Date Range for Data - Start Date Range for Data - End  \n",
            "0             January 1, 2019            March 31, 2024  \n",
            "1             January 1, 2019            March 31, 2024  \n",
            "2             January 1, 2019            March 31, 2024  \n",
            "3             January 1, 2019            March 31, 2024  \n",
            "4             January 1, 2019            March 31, 2024  \n"
          ]
        }
      ]
    },
    {
      "cell_type": "code",
      "source": [
        "print(recipent.head())"
      ],
      "metadata": {
        "colab": {
          "base_uri": "https://localhost:8080/"
        },
        "id": "mZSsj_n1saZb",
        "outputId": "3391d57c-17a5-4a0e-a030-4fa4e6c28719"
      },
      "execution_count": null,
      "outputs": [
        {
          "output_type": "stream",
          "name": "stdout",
          "text": [
            "   Transplant Year      Donor Type Organ Transplanted  \\\n",
            "0             2019  Deceased Donor              Heart   \n",
            "1             2019  Deceased Donor             Kidney   \n",
            "2             2019  Deceased Donor    Kidney-Pancreas   \n",
            "3             2019  Deceased Donor              Liver   \n",
            "4             2019  Deceased Donor               Lung   \n",
            "\n",
            "   Total Distinct Recipients Male Distinct Recipients  \\\n",
            "0                       3542                     2459   \n",
            "1                      16521                     9935   \n",
            "2                        872                      545   \n",
            "3                       8263                     5251   \n",
            "4                       2711                     1632   \n",
            "\n",
            "  Female Distinct Recipients  Distinct Recipients with Age Not Reported  \\\n",
            "0                       1083                                          0   \n",
            "1                       6586                                          0   \n",
            "2                        327                                          0   \n",
            "3                       3012                                          0   \n",
            "4                       1079                                          0   \n",
            "\n",
            "  Pediatric Distinct Recipients Age 18-30 Distinct Recipients  \\\n",
            "0                           507                           273   \n",
            "1                           518                           949   \n",
            "2                    Suppressed                            74   \n",
            "3                           457                           317   \n",
            "4                            50                           165   \n",
            "\n",
            "  Age 31-40 Distinct Recipients  ... Native Hawaiian Distinct Recipients  \\\n",
            "0                           293  ...                          Suppressed   \n",
            "1                          1913  ...                                  80   \n",
            "2                           340  ...                          Suppressed   \n",
            "3                           648  ...                                  18   \n",
            "4                           160  ...                          Suppressed   \n",
            "\n",
            "  Multiracial Distinct Recipients  \\\n",
            "0                              25   \n",
            "1                             150   \n",
            "2                      Suppressed   \n",
            "3                              54   \n",
            "4                      Suppressed   \n",
            "\n",
            "  Distinct Recipients with Medicare Advantage Payment Source  \\\n",
            "0                                                498           \n",
            "1                                               2752           \n",
            "2                                                 80           \n",
            "3                                                914           \n",
            "4                                                669           \n",
            "\n",
            "   Distinct Recipients with Private Insurance Payment Source  \\\n",
            "0                                               1669           \n",
            "1                                               3686           \n",
            "2                                                374           \n",
            "3                                               4056           \n",
            "4                                               1126           \n",
            "\n",
            "  Distinct Recipients with Medicare FFS Payment Source  \\\n",
            "0                                                502     \n",
            "1                                               8399     \n",
            "2                                                338     \n",
            "3                                               1469     \n",
            "4                                                577     \n",
            "\n",
            "  Distinct Recipients with Medicaid and CHIP Payment Source  \\\n",
            "0                                                694          \n",
            "1                                               1292          \n",
            "2                                         Suppressed          \n",
            "3                                               1485          \n",
            "4                                                220          \n",
            "\n",
            "  Distinct Recipients with Other Insurance Payment Sources Last Refresh Date  \\\n",
            "0                                                179           July 16, 2024   \n",
            "1                                                392           July 16, 2024   \n",
            "2                                         Suppressed           July 16, 2024   \n",
            "3                                                339           July 16, 2024   \n",
            "4                                                119           July 16, 2024   \n",
            "\n",
            "  Date Range for Data - Start Date Range for Data - End  \n",
            "0             January 1, 2019            March 31, 2024  \n",
            "1             January 1, 2019            March 31, 2024  \n",
            "2             January 1, 2019            March 31, 2024  \n",
            "3             January 1, 2019            March 31, 2024  \n",
            "4             January 1, 2019            March 31, 2024  \n",
            "\n",
            "[5 rows x 28 columns]\n"
          ]
        }
      ]
    },
    {
      "cell_type": "code",
      "source": [
        "print(transplant_demo.head())"
      ],
      "metadata": {
        "colab": {
          "base_uri": "https://localhost:8080/"
        },
        "id": "cu7v4wWesaEo",
        "outputId": "63abdbe3-2d32-4ed5-a83a-f455c7731a5b"
      },
      "execution_count": null,
      "outputs": [
        {
          "output_type": "stream",
          "name": "stdout",
          "text": [
            "               OTC_Name_State      Donor Type            Organ Transplanted  \\\n",
            "0  Children's of Alabama (AL)      All Donors  All Transplanted Organ Types   \n",
            "1  Children's of Alabama (AL)  Deceased Donor  All Transplanted Organ Types   \n",
            "2  Children's of Alabama (AL)  Deceased Donor                         Heart   \n",
            "3  Children's of Alabama (AL)  Deceased Donor                        Kidney   \n",
            "4  Children's of Alabama (AL)  Deceased Donor                         Liver   \n",
            "\n",
            "  Total Transplants Transplants with Male Recipients  \\\n",
            "0               113                               67   \n",
            "1                96                               56   \n",
            "2                27                       Suppressed   \n",
            "3                50                               30   \n",
            "4                19                       Suppressed   \n",
            "\n",
            "  Transplants with Female Recipients Pediatric Transplants  \\\n",
            "0                                 46                   112   \n",
            "1                                 40                    96   \n",
            "2                         Suppressed                    27   \n",
            "3                                 20                    50   \n",
            "4                         Suppressed                    19   \n",
            "\n",
            "  Transplants with Recipients Age 18-30 Transplants with Recipients Age 31-40  \\\n",
            "0                            Suppressed                            Suppressed   \n",
            "1                                     0                                     0   \n",
            "2                                     0                                     0   \n",
            "3                                     0                                     0   \n",
            "4                                     0                                     0   \n",
            "\n",
            "  Transplants with Recipients Age 41-50  ...  \\\n",
            "0                            Suppressed  ...   \n",
            "1                                     0  ...   \n",
            "2                                     0  ...   \n",
            "3                                     0  ...   \n",
            "4                                     0  ...   \n",
            "\n",
            "  Native Hawaiian Recipient Transplants Multiracial Recipient Transplants  \\\n",
            "0                                     0                                 0   \n",
            "1                                     0                                 0   \n",
            "2                                     0                                 0   \n",
            "3                                     0                                 0   \n",
            "4                                     0                                 0   \n",
            "\n",
            "   Transplants with Private Insurance Transplants with Medicare FFS  \\\n",
            "0                                  42                    Suppressed   \n",
            "1                                  29                    Suppressed   \n",
            "2                          Suppressed                    Suppressed   \n",
            "3                          Suppressed                    Suppressed   \n",
            "4                          Suppressed                             0   \n",
            "\n",
            "  Transplants with Medicare Advantage Transplants with Medicaid or CHIP  \\\n",
            "0                          Suppressed                                57   \n",
            "1                          Suppressed                                54   \n",
            "2                          Suppressed                                16   \n",
            "3                                   0                                24   \n",
            "4                                   0                        Suppressed   \n",
            "\n",
            "  Transplants with Other Insurance Sources Last Refresh Date  \\\n",
            "0                               Suppressed     July 16, 2024   \n",
            "1                               Suppressed     July 16, 2024   \n",
            "2                               Suppressed     July 16, 2024   \n",
            "3                                        0     July 16, 2024   \n",
            "4                                        0     July 16, 2024   \n",
            "\n",
            "  Date Range for Data - Start Date Range for Data - End  \n",
            "0             January 1, 2019            March 31, 2024  \n",
            "1             January 1, 2019            March 31, 2024  \n",
            "2             January 1, 2019            March 31, 2024  \n",
            "3             January 1, 2019            March 31, 2024  \n",
            "4             January 1, 2019            March 31, 2024  \n",
            "\n",
            "[5 rows x 28 columns]\n"
          ]
        }
      ]
    },
    {
      "cell_type": "code",
      "source": [
        "print(outcome.head())"
      ],
      "metadata": {
        "colab": {
          "base_uri": "https://localhost:8080/"
        },
        "id": "WgQ5kDr5sZuw",
        "outputId": "c4f20e5d-17f6-45df-930c-0f7880a241b8"
      },
      "execution_count": null,
      "outputs": [
        {
          "output_type": "stream",
          "name": "stdout",
          "text": [
            "                        OTC_Name_State                      Type  \\\n",
            "0           Children's of Alabama (AL)   Deceased Donor  - Heart   \n",
            "1           Children's of Alabama (AL)  Deceased Donor  - Kidney   \n",
            "2           Children's of Alabama (AL)   Deceased Donor  - Liver   \n",
            "3           Children's of Alabama (AL)  Living Donor    - Kidney   \n",
            "4  University of Alabama Hospital (AL)   Deceased Donor  - Heart   \n",
            "\n",
            "  Organ Transplanted Percent of Transplants with Functioning Graft at 30 Days  \\\n",
            "0              Heart                                            100.00%         \n",
            "1             Kidney                                            100.00%         \n",
            "2              Liver                                            100.00%         \n",
            "3             Kidney                                            100.00%         \n",
            "4              Heart                                             97.78%         \n",
            "\n",
            "  Percent of Transplants with Functioning Graft at 1 year  \\\n",
            "0                                            100.00%        \n",
            "1                                             97.06%        \n",
            "2                                             92.31%        \n",
            "3                                            100.00%        \n",
            "4                                             91.76%        \n",
            "\n",
            "  Percent of Patients Alive at 30 Days Percent of Patients Alive at 1 Year  \\\n",
            "0                              100.00%                             100.00%   \n",
            "1                              100.00%                             100.00%   \n",
            "2                              100.00%                              92.31%   \n",
            "3                              100.00%                             100.00%   \n",
            "4                               98.89%                              91.76%   \n",
            "\n",
            "  Last Refresh Date Date Range for Data - Start Date Range for Data - End  \n",
            "0     July 16, 2024             January 1, 2019            March 31, 2023  \n",
            "1     July 16, 2024             January 1, 2019            March 31, 2023  \n",
            "2     July 16, 2024             January 1, 2019            March 31, 2023  \n",
            "3     July 16, 2024             January 1, 2019            March 31, 2023  \n",
            "4     July 16, 2024             January 1, 2019            March 31, 2023  \n"
          ]
        }
      ]
    },
    {
      "cell_type": "code",
      "source": [],
      "metadata": {
        "id": "8Qom6qVS6Qc9"
      },
      "execution_count": null,
      "outputs": []
    }
  ]
}